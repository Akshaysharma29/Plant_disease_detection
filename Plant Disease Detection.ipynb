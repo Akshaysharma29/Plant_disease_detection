{
 "cells": [
  {
   "cell_type": "code",
   "execution_count": 1,
   "metadata": {},
   "outputs": [
    {
     "name": "stderr",
     "output_type": "stream",
     "text": [
      "/home/akshay/anaconda3/lib/python3.6/site-packages/h5py/__init__.py:36: FutureWarning: Conversion of the second argument of issubdtype from `float` to `np.floating` is deprecated. In future, it will be treated as `np.float64 == np.dtype(float).type`.\n",
      "  from ._conv import register_converters as _register_converters\n",
      "Using TensorFlow backend.\n"
     ]
    }
   ],
   "source": [
    "import numpy as np\n",
    "import keras\n",
    "from keras.preprocessing import image\n",
    "from keras.layers import MaxPooling2D,Convolution2D,Dropout, Flatten,Dense,Activation\n",
    "from keras.models import Sequential,save_model\n",
    "from keras.utils import np_utils\n",
    "import os\n",
    "import cv2\n",
    "from sklearn.utils import shuffle"
   ]
  },
  {
   "cell_type": "code",
   "execution_count": 2,
   "metadata": {},
   "outputs": [],
   "source": [
    "path = '/home/akshay/Documents/7th Semester/Minor project/crowdai_train/crowdai'"
   ]
  },
  {
   "cell_type": "code",
   "execution_count": 3,
   "metadata": {},
   "outputs": [
    {
     "name": "stdout",
     "output_type": "stream",
     "text": [
      "38 <class 'list'>\n"
     ]
    }
   ],
   "source": [
    "leaf = os.listdir(path)\n",
    "print(len(leaf),type(leaf))"
   ]
  },
  {
   "cell_type": "code",
   "execution_count": 4,
   "metadata": {},
   "outputs": [
    {
     "name": "stdout",
     "output_type": "stream",
     "text": [
      "['c_10', 'c_31', 'c_6', 'c_11', 'c_17', 'c_19', 'c_28', 'c_5', 'c_35', 'c_34', 'c_25', 'c_37', 'c_16', 'c_21', 'c_36', 'c_29', 'c_8', 'c_4', 'c_15', 'c_3', 'c_24', 'c_2', 'c_13', 'c_18', 'c_20', 'c_26', 'c_27', 'c_12', 'c_22', 'c_23', 'c_7', 'c_33', 'c_0', 'c_30', 'c_32', 'c_1', 'c_9', 'c_14']\n"
     ]
    }
   ],
   "source": [
    "print(leaf)"
   ]
  },
  {
   "cell_type": "code",
   "execution_count": 5,
   "metadata": {},
   "outputs": [
    {
     "name": "stdout",
     "output_type": "stream",
     "text": [
      "10\n"
     ]
    }
   ],
   "source": [
    "print(leaf[0][2:4])"
   ]
  },
  {
   "cell_type": "code",
   "execution_count": 6,
   "metadata": {},
   "outputs": [],
   "source": [
    "x,y = [], []"
   ]
  },
  {
   "cell_type": "code",
   "execution_count": 7,
   "metadata": {},
   "outputs": [],
   "source": [
    "for i in leaf:\n",
    "    images = os.listdir(path+\"/\"+i)\n",
    "    for j in images:\n",
    "        img_path = path+\"/\"+i+\"/\"+j\n",
    "        #Better method then cv2.imread\n",
    "        img = image.load_img(img_path, target_size=(28,28))\n",
    "        img = image.img_to_array(img)\n",
    "        #print(img.shape)\n",
    "        #img =img.flatten()\n",
    "        #img = img.reshape(1,784)\n",
    "#         print(img.shape)\n",
    "#         img = img.reshape((28,28))\n",
    "        img = img/255.0\n",
    "        x.append(img)\n",
    "        y.append(int(i[2:4]))\n",
    "        \n",
    "        "
   ]
  },
  {
   "cell_type": "code",
   "execution_count": 8,
   "metadata": {},
   "outputs": [
    {
     "name": "stdout",
     "output_type": "stream",
     "text": [
      "b16eb75f-59e3-42f6-9ec1-747503223c6c___Mt.N.V_HL 6039.JPG\n",
      "21917\n",
      "21917\n"
     ]
    }
   ],
   "source": [
    "print(images[0])\n",
    "print(len(y))\n",
    "print(len(x))"
   ]
  },
  {
   "cell_type": "code",
   "execution_count": 9,
   "metadata": {},
   "outputs": [],
   "source": [
    "x_data = np.array(x)\n",
    "y_data = np.array(y)"
   ]
  },
  {
   "cell_type": "code",
   "execution_count": 10,
   "metadata": {},
   "outputs": [
    {
     "name": "stdout",
     "output_type": "stream",
     "text": [
      "(21917, 28, 28, 3)\n",
      "(21917,)\n"
     ]
    }
   ],
   "source": [
    "print(x_data.shape)\n",
    "print(y_data.shape)"
   ]
  },
  {
   "cell_type": "code",
   "execution_count": 11,
   "metadata": {},
   "outputs": [
    {
     "name": "stdout",
     "output_type": "stream",
     "text": [
      "(21917, 38)\n",
      "38\n"
     ]
    }
   ],
   "source": [
    "y_data = np_utils.to_categorical(y_data)\n",
    "print(y_data.shape)\n",
    "num_classes = y_data.shape[1]\n",
    "print(num_classes)"
   ]
  },
  {
   "cell_type": "code",
   "execution_count": 12,
   "metadata": {},
   "outputs": [],
   "source": [
    "x_data , y_data = shuffle(x_data,y_data, random_state = 0)"
   ]
  },
  {
   "cell_type": "code",
   "execution_count": 13,
   "metadata": {},
   "outputs": [
    {
     "name": "stdout",
     "output_type": "stream",
     "text": [
      "(13150, 28, 28, 3)\n",
      "(8767, 28, 28, 3)\n",
      "(13150, 38)\n",
      "(8767, 38)\n"
     ]
    }
   ],
   "source": [
    "split = int(0.6*(x_data.shape[0]))\n",
    "\n",
    "x_train = x_data[:split]\n",
    "x_test = x_data[split:]\n",
    "y_train = y_data[:split]\n",
    "y_test = y_data[split:]\n",
    "\n",
    "print(x_train.shape)\n",
    "print(x_test.shape)\n",
    "print(y_train.shape)\n",
    "print(y_test.shape)"
   ]
  },
  {
   "cell_type": "code",
   "execution_count": 14,
   "metadata": {},
   "outputs": [
    {
     "name": "stderr",
     "output_type": "stream",
     "text": [
      "/home/akshay/anaconda3/lib/python3.6/site-packages/ipykernel_launcher.py:3: UserWarning: Update your `Conv2D` call to the Keras 2 API: `Conv2D(32, (3, 3), input_shape=(28, 28, 3...)`\n",
      "  This is separate from the ipykernel package so we can avoid doing imports until\n",
      "/home/akshay/anaconda3/lib/python3.6/site-packages/ipykernel_launcher.py:6: UserWarning: Update your `Conv2D` call to the Keras 2 API: `Conv2D(64, (3, 3))`\n",
      "  \n",
      "/home/akshay/anaconda3/lib/python3.6/site-packages/ipykernel_launcher.py:11: UserWarning: Update your `Conv2D` call to the Keras 2 API: `Conv2D(16, (3, 3))`\n",
      "  # This is added back by InteractiveShellApp.init_path()\n"
     ]
    }
   ],
   "source": [
    "model = Sequential()\n",
    "\n",
    "model.add(Convolution2D(32,3,3,input_shape = (28,28,3)))\n",
    "model.add(Activation('relu'))\n",
    "\n",
    "model.add(Convolution2D(64,3,3))\n",
    "model.add(Activation('relu'))\n",
    "\n",
    "model.add(MaxPooling2D(pool_size= (2,2)))\n",
    "          \n",
    "model.add(Convolution2D(16,3,3))\n",
    "model.add(Activation('relu'))\n",
    "\n",
    "model.add( Flatten() )\n",
    "\n",
    "model.add( Dropout(0.2) )\n",
    "model.add(Dense(num_classes))\n",
    "\n",
    "model.add(Activation('softmax'))"
   ]
  },
  {
   "cell_type": "code",
   "execution_count": 15,
   "metadata": {},
   "outputs": [
    {
     "name": "stdout",
     "output_type": "stream",
     "text": [
      "_________________________________________________________________\n",
      "Layer (type)                 Output Shape              Param #   \n",
      "=================================================================\n",
      "conv2d_1 (Conv2D)            (None, 26, 26, 32)        896       \n",
      "_________________________________________________________________\n",
      "activation_1 (Activation)    (None, 26, 26, 32)        0         \n",
      "_________________________________________________________________\n",
      "conv2d_2 (Conv2D)            (None, 24, 24, 64)        18496     \n",
      "_________________________________________________________________\n",
      "activation_2 (Activation)    (None, 24, 24, 64)        0         \n",
      "_________________________________________________________________\n",
      "max_pooling2d_1 (MaxPooling2 (None, 12, 12, 64)        0         \n",
      "_________________________________________________________________\n",
      "conv2d_3 (Conv2D)            (None, 10, 10, 16)        9232      \n",
      "_________________________________________________________________\n",
      "activation_3 (Activation)    (None, 10, 10, 16)        0         \n",
      "_________________________________________________________________\n",
      "flatten_1 (Flatten)          (None, 1600)              0         \n",
      "_________________________________________________________________\n",
      "dropout_1 (Dropout)          (None, 1600)              0         \n",
      "_________________________________________________________________\n",
      "dense_1 (Dense)              (None, 38)                60838     \n",
      "_________________________________________________________________\n",
      "activation_4 (Activation)    (None, 38)                0         \n",
      "=================================================================\n",
      "Total params: 89,462\n",
      "Trainable params: 89,462\n",
      "Non-trainable params: 0\n",
      "_________________________________________________________________\n"
     ]
    }
   ],
   "source": [
    "model.summary()"
   ]
  },
  {
   "cell_type": "code",
   "execution_count": 19,
   "metadata": {},
   "outputs": [
    {
     "name": "stdout",
     "output_type": "stream",
     "text": [
      "Train on 13150 samples, validate on 8767 samples\n",
      "Epoch 1/20\n",
      "13150/13150 [==============================] - 47s 4ms/step - loss: 2.6779 - acc: 0.2897 - val_loss: 1.9042 - val_acc: 0.4590\n",
      "Epoch 2/20\n",
      "13150/13150 [==============================] - 52s 4ms/step - loss: 1.6152 - acc: 0.5360 - val_loss: 1.3589 - val_acc: 0.6060\n",
      "Epoch 3/20\n",
      "13150/13150 [==============================] - 57s 4ms/step - loss: 1.2107 - acc: 0.6465 - val_loss: 1.0939 - val_acc: 0.6797\n",
      "Epoch 4/20\n",
      "13150/13150 [==============================] - 50s 4ms/step - loss: 0.9930 - acc: 0.7043 - val_loss: 0.9228 - val_acc: 0.7261\n",
      "Epoch 5/20\n",
      "13150/13150 [==============================] - 53s 4ms/step - loss: 0.8833 - acc: 0.7322 - val_loss: 0.8847 - val_acc: 0.7371\n",
      "Epoch 6/20\n",
      "13150/13150 [==============================] - 49s 4ms/step - loss: 0.7884 - acc: 0.7574 - val_loss: 0.8283 - val_acc: 0.7536\n",
      "Epoch 7/20\n",
      "13150/13150 [==============================] - 54s 4ms/step - loss: 0.7066 - acc: 0.7851 - val_loss: 0.8306 - val_acc: 0.7550\n",
      "Epoch 8/20\n",
      "13150/13150 [==============================] - 45s 3ms/step - loss: 0.6499 - acc: 0.8002 - val_loss: 0.7691 - val_acc: 0.7716\n",
      "Epoch 9/20\n",
      "13150/13150 [==============================] - 46s 4ms/step - loss: 0.5964 - acc: 0.8164 - val_loss: 0.7164 - val_acc: 0.7854\n",
      "Epoch 10/20\n",
      "13150/13150 [==============================] - 46s 3ms/step - loss: 0.5612 - acc: 0.8223 - val_loss: 0.7287 - val_acc: 0.7792\n",
      "Epoch 11/20\n",
      "13150/13150 [==============================] - 46s 4ms/step - loss: 0.5439 - acc: 0.8279 - val_loss: 0.7215 - val_acc: 0.7824\n",
      "Epoch 12/20\n",
      "13150/13150 [==============================] - 47s 4ms/step - loss: 0.4957 - acc: 0.8427 - val_loss: 0.6939 - val_acc: 0.7922\n",
      "Epoch 13/20\n",
      "13150/13150 [==============================] - 46s 4ms/step - loss: 0.4627 - acc: 0.8516 - val_loss: 0.6933 - val_acc: 0.7951\n",
      "Epoch 14/20\n",
      "13150/13150 [==============================] - 46s 3ms/step - loss: 0.4493 - acc: 0.8570 - val_loss: 0.6791 - val_acc: 0.8027\n",
      "Epoch 15/20\n",
      "13150/13150 [==============================] - 46s 3ms/step - loss: 0.4097 - acc: 0.8706 - val_loss: 0.6675 - val_acc: 0.7979\n",
      "Epoch 16/20\n",
      "13150/13150 [==============================] - 46s 3ms/step - loss: 0.3970 - acc: 0.8735 - val_loss: 0.6608 - val_acc: 0.8014\n",
      "Epoch 17/20\n",
      "13150/13150 [==============================] - 46s 3ms/step - loss: 0.3721 - acc: 0.8816 - val_loss: 0.6872 - val_acc: 0.7979\n",
      "Epoch 18/20\n",
      "13150/13150 [==============================] - 46s 3ms/step - loss: 0.3789 - acc: 0.8752 - val_loss: 0.6801 - val_acc: 0.7978\n",
      "Epoch 19/20\n",
      "13150/13150 [==============================] - 46s 3ms/step - loss: 0.3443 - acc: 0.8888 - val_loss: 0.7905 - val_acc: 0.7813\n",
      "Epoch 20/20\n",
      "13150/13150 [==============================] - 46s 3ms/step - loss: 0.3402 - acc: 0.8890 - val_loss: 0.6736 - val_acc: 0.8036\n"
     ]
    },
    {
     "data": {
      "text/plain": [
       "<keras.callbacks.History at 0x7f07af3f3470>"
      ]
     },
     "execution_count": 19,
     "metadata": {},
     "output_type": "execute_result"
    }
   ],
   "source": [
    "model.compile( optimizer='adam', loss='categorical_crossentropy', metrics=['accuracy'] )\n",
    "model.fit(x_train,y_train, validation_data=(x_test,y_test),epochs=20,batch_size = 128,shuffle = True )"
   ]
  },
  {
   "cell_type": "code",
   "execution_count": 20,
   "metadata": {},
   "outputs": [],
   "source": [
    "model.save('Disease_detector.h5')"
   ]
  },
  {
   "cell_type": "code",
   "execution_count": null,
   "metadata": {},
   "outputs": [],
   "source": []
  }
 ],
 "metadata": {
  "kernelspec": {
   "display_name": "Python 3",
   "language": "python",
   "name": "python3"
  },
  "language_info": {
   "codemirror_mode": {
    "name": "ipython",
    "version": 3
   },
   "file_extension": ".py",
   "mimetype": "text/x-python",
   "name": "python",
   "nbconvert_exporter": "python",
   "pygments_lexer": "ipython3",
   "version": "3.6.5"
  }
 },
 "nbformat": 4,
 "nbformat_minor": 2
}
