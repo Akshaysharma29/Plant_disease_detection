{
 "cells": [
  {
   "cell_type": "code",
   "execution_count": 10,
   "metadata": {},
   "outputs": [],
   "source": [
    "import numpy as np\n",
    "import keras\n",
    "from keras.preprocessing import image\n",
    "from keras.layers import MaxPooling2D,Convolution2D,Dropout, Flatten,Dense,Activation\n",
    "from keras.models import Sequential,save_model,load_model\n",
    "from keras.utils import np_utils\n",
    "import os\n",
    "import cv2\n",
    "from sklearn.utils import shuffle"
   ]
  },
  {
   "cell_type": "code",
   "execution_count": 2,
   "metadata": {},
   "outputs": [],
   "source": [
    "path = '/home/akshay/Documents/7th Semester/Minor project/crowdai_train/crowdai'"
   ]
  },
  {
   "cell_type": "code",
   "execution_count": 3,
   "metadata": {},
   "outputs": [
    {
     "name": "stdout",
     "output_type": "stream",
     "text": [
      "38 <class 'list'>\n"
     ]
    }
   ],
   "source": [
    "leaf = os.listdir(path)\n",
    "print(len(leaf),type(leaf))"
   ]
  },
  {
   "cell_type": "code",
   "execution_count": 4,
   "metadata": {},
   "outputs": [],
   "source": [
    "x,y = [], []"
   ]
  },
  {
   "cell_type": "code",
   "execution_count": 5,
   "metadata": {},
   "outputs": [],
   "source": [
    "for i in leaf:\n",
    "    images = os.listdir(path+\"/\"+i)\n",
    "    for j in images:\n",
    "        img_path = path+\"/\"+i+\"/\"+j\n",
    "        #Better method then cv2.imread\n",
    "        img = image.load_img(img_path, target_size=(28,28))\n",
    "        img = image.img_to_array(img)\n",
    "        #print(img.shape)\n",
    "        #img =img.flatten()\n",
    "        #img = img.reshape(1,784)\n",
    "#         print(img.shape)\n",
    "#         img = img.reshape((28,28))\n",
    "        img = img/255.0\n",
    "        x.append(img)\n",
    "        y.append(int(i[2:4]))\n",
    "        \n",
    "        "
   ]
  },
  {
   "cell_type": "code",
   "execution_count": 6,
   "metadata": {},
   "outputs": [],
   "source": [
    "x_data = np.array(x)\n",
    "y_data = np.array(y)"
   ]
  },
  {
   "cell_type": "code",
   "execution_count": 7,
   "metadata": {},
   "outputs": [
    {
     "name": "stdout",
     "output_type": "stream",
     "text": [
      "(21917, 38)\n",
      "38\n"
     ]
    }
   ],
   "source": [
    "y_data = np_utils.to_categorical(y_data)\n",
    "print(y_data.shape)\n",
    "num_classes = y_data.shape[1]\n",
    "print(num_classes)"
   ]
  },
  {
   "cell_type": "code",
   "execution_count": 8,
   "metadata": {},
   "outputs": [],
   "source": [
    "x_data , y_data = shuffle(x_data,y_data, random_state = 0)"
   ]
  },
  {
   "cell_type": "code",
   "execution_count": 9,
   "metadata": {},
   "outputs": [
    {
     "name": "stdout",
     "output_type": "stream",
     "text": [
      "(13150, 28, 28, 3)\n",
      "(8767, 28, 28, 3)\n",
      "(13150, 38)\n",
      "(8767, 38)\n"
     ]
    }
   ],
   "source": [
    "split = int(0.6*(x_data.shape[0]))\n",
    "\n",
    "x_train = x_data[:split]\n",
    "x_test = x_data[split:]\n",
    "y_train = y_data[:split]\n",
    "y_test = y_data[split:]\n",
    "\n",
    "print(x_train.shape)\n",
    "print(x_test.shape)\n",
    "print(y_train.shape)\n",
    "print(y_test.shape)"
   ]
  },
  {
   "cell_type": "code",
   "execution_count": 11,
   "metadata": {},
   "outputs": [],
   "source": [
    "model = load_model('Disease_detector.h5')"
   ]
  },
  {
   "cell_type": "code",
   "execution_count": 12,
   "metadata": {},
   "outputs": [],
   "source": [
    "model.compile( optimizer='adam', loss='categorical_crossentropy', metrics=['accuracy'] )"
   ]
  },
  {
   "cell_type": "code",
   "execution_count": 13,
   "metadata": {},
   "outputs": [
    {
     "name": "stdout",
     "output_type": "stream",
     "text": [
      "Train on 13150 samples, validate on 8767 samples\n",
      "Epoch 1/20\n",
      "13150/13150 [==============================] - 48s 4ms/step - loss: 0.3437 - acc: 0.8851 - val_loss: 0.6514 - val_acc: 0.8127\n",
      "Epoch 2/20\n",
      "13150/13150 [==============================] - 47s 4ms/step - loss: 0.3030 - acc: 0.9013 - val_loss: 0.7330 - val_acc: 0.7910\n",
      "Epoch 3/20\n",
      "13150/13150 [==============================] - 45s 3ms/step - loss: 0.2924 - acc: 0.9077 - val_loss: 0.6501 - val_acc: 0.8125\n",
      "Epoch 4/20\n",
      "13150/13150 [==============================] - 46s 4ms/step - loss: 0.2834 - acc: 0.9065 - val_loss: 0.7059 - val_acc: 0.8088\n",
      "Epoch 5/20\n",
      "13150/13150 [==============================] - 46s 4ms/step - loss: 0.2702 - acc: 0.9118 - val_loss: 0.6655 - val_acc: 0.8118\n",
      "Epoch 6/20\n",
      "13150/13150 [==============================] - 46s 4ms/step - loss: 0.2546 - acc: 0.9169 - val_loss: 0.6822 - val_acc: 0.8117\n",
      "Epoch 7/20\n",
      "13150/13150 [==============================] - 48s 4ms/step - loss: 0.2638 - acc: 0.9125 - val_loss: 0.6335 - val_acc: 0.8211\n",
      "Epoch 8/20\n",
      "13150/13150 [==============================] - 55s 4ms/step - loss: 0.2349 - acc: 0.9233 - val_loss: 0.6756 - val_acc: 0.8128\n",
      "Epoch 9/20\n",
      "13150/13150 [==============================] - 46s 4ms/step - loss: 0.2378 - acc: 0.9218 - val_loss: 0.6651 - val_acc: 0.8137\n",
      "Epoch 10/20\n",
      "13150/13150 [==============================] - 46s 4ms/step - loss: 0.2251 - acc: 0.9256 - val_loss: 0.7407 - val_acc: 0.8040\n",
      "Epoch 11/20\n",
      "13150/13150 [==============================] - 49s 4ms/step - loss: 0.2166 - acc: 0.9284 - val_loss: 0.6567 - val_acc: 0.8256\n",
      "Epoch 12/20\n",
      "13150/13150 [==============================] - 49s 4ms/step - loss: 0.1945 - acc: 0.9342 - val_loss: 0.7047 - val_acc: 0.8123\n",
      "Epoch 13/20\n",
      "13150/13150 [==============================] - 49s 4ms/step - loss: 0.1879 - acc: 0.9354 - val_loss: 0.6692 - val_acc: 0.8229\n",
      "Epoch 14/20\n",
      "13150/13150 [==============================] - 47s 4ms/step - loss: 0.1974 - acc: 0.9325 - val_loss: 0.6649 - val_acc: 0.8249\n",
      "Epoch 15/20\n",
      "13150/13150 [==============================] - 48s 4ms/step - loss: 0.1748 - acc: 0.9416 - val_loss: 0.6780 - val_acc: 0.8192\n",
      "Epoch 16/20\n",
      "13150/13150 [==============================] - 47s 4ms/step - loss: 0.1800 - acc: 0.9392 - val_loss: 0.6911 - val_acc: 0.8193\n",
      "Epoch 17/20\n",
      "13150/13150 [==============================] - 47s 4ms/step - loss: 0.1552 - acc: 0.9475 - val_loss: 0.7184 - val_acc: 0.8189\n",
      "Epoch 18/20\n",
      "13150/13150 [==============================] - 47s 4ms/step - loss: 0.1694 - acc: 0.9429 - val_loss: 0.7695 - val_acc: 0.8064\n",
      "Epoch 19/20\n",
      "13150/13150 [==============================] - 54s 4ms/step - loss: 0.1468 - acc: 0.9511 - val_loss: 0.6826 - val_acc: 0.8289\n",
      "Epoch 20/20\n",
      "13150/13150 [==============================] - 53s 4ms/step - loss: 0.1407 - acc: 0.9538 - val_loss: 0.7373 - val_acc: 0.8196\n"
     ]
    },
    {
     "data": {
      "text/plain": [
       "<keras.callbacks.History at 0x7f58c505ef98>"
      ]
     },
     "execution_count": 13,
     "metadata": {},
     "output_type": "execute_result"
    }
   ],
   "source": [
    "model.fit(x_train,y_train, validation_data=(x_test,y_test),epochs=20,batch_size = 128,shuffle = True )"
   ]
  },
  {
   "cell_type": "code",
   "execution_count": 14,
   "metadata": {},
   "outputs": [],
   "source": [
    "model.save('Disease_detector_Transfer_learning.h5')"
   ]
  },
  {
   "cell_type": "code",
   "execution_count": 15,
   "metadata": {},
   "outputs": [
    {
     "name": "stdout",
     "output_type": "stream",
     "text": [
      "_________________________________________________________________\n",
      "Layer (type)                 Output Shape              Param #   \n",
      "=================================================================\n",
      "conv2d_1 (Conv2D)            (None, 26, 26, 32)        896       \n",
      "_________________________________________________________________\n",
      "activation_1 (Activation)    (None, 26, 26, 32)        0         \n",
      "_________________________________________________________________\n",
      "conv2d_2 (Conv2D)            (None, 24, 24, 64)        18496     \n",
      "_________________________________________________________________\n",
      "activation_2 (Activation)    (None, 24, 24, 64)        0         \n",
      "_________________________________________________________________\n",
      "max_pooling2d_1 (MaxPooling2 (None, 12, 12, 64)        0         \n",
      "_________________________________________________________________\n",
      "conv2d_3 (Conv2D)            (None, 10, 10, 16)        9232      \n",
      "_________________________________________________________________\n",
      "activation_3 (Activation)    (None, 10, 10, 16)        0         \n",
      "_________________________________________________________________\n",
      "flatten_1 (Flatten)          (None, 1600)              0         \n",
      "_________________________________________________________________\n",
      "dropout_1 (Dropout)          (None, 1600)              0         \n",
      "_________________________________________________________________\n",
      "dense_1 (Dense)              (None, 38)                60838     \n",
      "_________________________________________________________________\n",
      "activation_4 (Activation)    (None, 38)                0         \n",
      "=================================================================\n",
      "Total params: 89,462\n",
      "Trainable params: 89,462\n",
      "Non-trainable params: 0\n",
      "_________________________________________________________________\n"
     ]
    }
   ],
   "source": [
    "model.summary()"
   ]
  },
  {
   "cell_type": "code",
   "execution_count": null,
   "metadata": {},
   "outputs": [],
   "source": []
  }
 ],
 "metadata": {
  "kernelspec": {
   "display_name": "Python 3",
   "language": "python",
   "name": "python3"
  },
  "language_info": {
   "codemirror_mode": {
    "name": "ipython",
    "version": 3
   },
   "file_extension": ".py",
   "mimetype": "text/x-python",
   "name": "python",
   "nbconvert_exporter": "python",
   "pygments_lexer": "ipython3",
   "version": "3.6.5"
  }
 },
 "nbformat": 4,
 "nbformat_minor": 2
}
