{
 "cells": [
  {
   "cell_type": "code",
   "execution_count": 13,
   "metadata": {},
   "outputs": [],
   "source": [
    "import numpy as np\n",
    "import keras\n",
    "from keras import optimizers\n",
    "from keras.preprocessing import image\n",
    "from keras.layers import MaxPooling2D,Convolution2D,Dropout, Flatten,Dense,Activation\n",
    "from keras.models import Sequential,save_model,load_model\n",
    "from keras.utils import np_utils\n",
    "import os\n",
    "import cv2\n",
    "from sklearn.utils import shuffle"
   ]
  },
  {
   "cell_type": "code",
   "execution_count": 2,
   "metadata": {},
   "outputs": [],
   "source": [
    "path = '/home/akshay/Documents/7th Semester/Minor project/crowdai_train/crowdai'"
   ]
  },
  {
   "cell_type": "code",
   "execution_count": 3,
   "metadata": {},
   "outputs": [
    {
     "name": "stdout",
     "output_type": "stream",
     "text": [
      "38 <class 'list'>\n"
     ]
    }
   ],
   "source": [
    "leaf = os.listdir(path)\n",
    "print(len(leaf),type(leaf))"
   ]
  },
  {
   "cell_type": "code",
   "execution_count": 4,
   "metadata": {},
   "outputs": [],
   "source": [
    "x,y = [], []"
   ]
  },
  {
   "cell_type": "code",
   "execution_count": 5,
   "metadata": {},
   "outputs": [],
   "source": [
    "for i in leaf:\n",
    "    images = os.listdir(path+\"/\"+i)\n",
    "    for j in images:\n",
    "        img_path = path+\"/\"+i+\"/\"+j\n",
    "        #Better method then cv2.imread\n",
    "        img = image.load_img(img_path, target_size=(28,28))\n",
    "        img = image.img_to_array(img)\n",
    "        #print(img.shape)\n",
    "        #img =img.flatten()\n",
    "        #img = img.reshape(1,784)\n",
    "#         print(img.shape)\n",
    "#         img = img.reshape((28,28))\n",
    "        img = img/255.0\n",
    "        x.append(img)\n",
    "        y.append(int(i[2:4]))\n",
    "        \n",
    "        "
   ]
  },
  {
   "cell_type": "code",
   "execution_count": 6,
   "metadata": {},
   "outputs": [],
   "source": [
    "x_data = np.array(x)\n",
    "y_data = np.array(y)"
   ]
  },
  {
   "cell_type": "code",
   "execution_count": 7,
   "metadata": {},
   "outputs": [
    {
     "name": "stdout",
     "output_type": "stream",
     "text": [
      "(21917, 38)\n",
      "38\n"
     ]
    }
   ],
   "source": [
    "y_data = np_utils.to_categorical(y_data)\n",
    "print(y_data.shape)\n",
    "num_classes = y_data.shape[1]\n",
    "print(num_classes)"
   ]
  },
  {
   "cell_type": "code",
   "execution_count": 8,
   "metadata": {},
   "outputs": [],
   "source": [
    "x_data , y_data = shuffle(x_data,y_data, random_state = 0)"
   ]
  },
  {
   "cell_type": "code",
   "execution_count": 9,
   "metadata": {},
   "outputs": [
    {
     "name": "stdout",
     "output_type": "stream",
     "text": [
      "(13150, 28, 28, 3)\n",
      "(8767, 28, 28, 3)\n",
      "(13150, 38)\n",
      "(8767, 38)\n"
     ]
    }
   ],
   "source": [
    "split = int(0.6*(x_data.shape[0]))\n",
    "\n",
    "x_train = x_data[:split]\n",
    "x_test = x_data[split:]\n",
    "y_train = y_data[:split]\n",
    "y_test = y_data[split:]\n",
    "\n",
    "print(x_train.shape)\n",
    "print(x_test.shape)\n",
    "print(y_train.shape)\n",
    "print(y_test.shape)"
   ]
  },
  {
   "cell_type": "code",
   "execution_count": 10,
   "metadata": {},
   "outputs": [],
   "source": [
    "model = load_model('Disease_detector.h5')"
   ]
  },
  {
   "cell_type": "code",
   "execution_count": 12,
   "metadata": {},
   "outputs": [
    {
     "name": "stdout",
     "output_type": "stream",
     "text": [
      "_________________________________________________________________\n",
      "Layer (type)                 Output Shape              Param #   \n",
      "=================================================================\n",
      "conv2d_1 (Conv2D)            (None, 26, 26, 32)        896       \n",
      "_________________________________________________________________\n",
      "activation_1 (Activation)    (None, 26, 26, 32)        0         \n",
      "_________________________________________________________________\n",
      "conv2d_2 (Conv2D)            (None, 24, 24, 64)        18496     \n",
      "_________________________________________________________________\n",
      "activation_2 (Activation)    (None, 24, 24, 64)        0         \n",
      "_________________________________________________________________\n",
      "max_pooling2d_1 (MaxPooling2 (None, 12, 12, 64)        0         \n",
      "_________________________________________________________________\n",
      "conv2d_3 (Conv2D)            (None, 10, 10, 16)        9232      \n",
      "_________________________________________________________________\n",
      "activation_3 (Activation)    (None, 10, 10, 16)        0         \n",
      "_________________________________________________________________\n",
      "flatten_1 (Flatten)          (None, 1600)              0         \n",
      "_________________________________________________________________\n",
      "dropout_1 (Dropout)          (None, 1600)              0         \n",
      "_________________________________________________________________\n",
      "dense_1 (Dense)              (None, 38)                60838     \n",
      "_________________________________________________________________\n",
      "activation_4 (Activation)    (None, 38)                0         \n",
      "=================================================================\n",
      "Total params: 89,462\n",
      "Trainable params: 89,462\n",
      "Non-trainable params: 0\n",
      "_________________________________________________________________\n"
     ]
    }
   ],
   "source": [
    "model.summary()"
   ]
  },
  {
   "cell_type": "code",
   "execution_count": 14,
   "metadata": {},
   "outputs": [],
   "source": [
    "sgd = optimizers.SGD(lr=0.01, decay=1e-6, momentum=0.9, nesterov=True)"
   ]
  },
  {
   "cell_type": "code",
   "execution_count": 15,
   "metadata": {},
   "outputs": [],
   "source": [
    "model.compile( optimizer=sgd, loss='categorical_crossentropy', metrics=['accuracy'] )"
   ]
  },
  {
   "cell_type": "code",
   "execution_count": 16,
   "metadata": {},
   "outputs": [
    {
     "name": "stdout",
     "output_type": "stream",
     "text": [
      "Train on 13150 samples, validate on 8767 samples\n",
      "Epoch 1/20\n",
      "13150/13150 [==============================] - 46s 3ms/step - loss: 14.4458 - acc: 0.1005 - val_loss: 14.7815 - val_acc: 0.0829\n",
      "Epoch 2/20\n",
      "13150/13150 [==============================] - 47s 4ms/step - loss: 14.6595 - acc: 0.0905 - val_loss: 14.7815 - val_acc: 0.0829\n",
      "Epoch 3/20\n",
      "13150/13150 [==============================] - 45s 3ms/step - loss: 14.6595 - acc: 0.0905 - val_loss: 14.7815 - val_acc: 0.0829\n",
      "Epoch 4/20\n",
      "13150/13150 [==============================] - 45s 3ms/step - loss: 14.6595 - acc: 0.0905 - val_loss: 14.7815 - val_acc: 0.0829\n",
      "Epoch 5/20\n",
      "13150/13150 [==============================] - 45s 3ms/step - loss: 14.6595 - acc: 0.0905 - val_loss: 14.7815 - val_acc: 0.0829\n",
      "Epoch 6/20\n",
      "13150/13150 [==============================] - 46s 4ms/step - loss: 14.6595 - acc: 0.0905 - val_loss: 14.7815 - val_acc: 0.0829\n",
      "Epoch 7/20\n",
      "13150/13150 [==============================] - 47s 4ms/step - loss: 14.6595 - acc: 0.0905 - val_loss: 14.7815 - val_acc: 0.0829\n",
      "Epoch 8/20\n",
      "13150/13150 [==============================] - 44s 3ms/step - loss: 14.6595 - acc: 0.0905 - val_loss: 14.7815 - val_acc: 0.0829\n",
      "Epoch 9/20\n",
      "13150/13150 [==============================] - 45s 3ms/step - loss: 14.6595 - acc: 0.0905 - val_loss: 14.7815 - val_acc: 0.0829\n",
      "Epoch 10/20\n",
      "13150/13150 [==============================] - 44s 3ms/step - loss: 14.6595 - acc: 0.0905 - val_loss: 14.7815 - val_acc: 0.0829\n",
      "Epoch 11/20\n",
      "13150/13150 [==============================] - 44s 3ms/step - loss: 14.6595 - acc: 0.0905 - val_loss: 14.7815 - val_acc: 0.0829\n",
      "Epoch 12/20\n",
      "13150/13150 [==============================] - 44s 3ms/step - loss: 14.6595 - acc: 0.0905 - val_loss: 14.7815 - val_acc: 0.0829\n",
      "Epoch 13/20\n",
      "13150/13150 [==============================] - 47s 4ms/step - loss: 14.6595 - acc: 0.0905 - val_loss: 14.7815 - val_acc: 0.0829\n",
      "Epoch 14/20\n",
      "13150/13150 [==============================] - 44s 3ms/step - loss: 14.6595 - acc: 0.0905 - val_loss: 14.7815 - val_acc: 0.0829\n",
      "Epoch 15/20\n",
      "13150/13150 [==============================] - 48s 4ms/step - loss: 14.6595 - acc: 0.0905 - val_loss: 14.7815 - val_acc: 0.0829\n",
      "Epoch 16/20\n",
      "13150/13150 [==============================] - 48s 4ms/step - loss: 14.6595 - acc: 0.0905 - val_loss: 14.7815 - val_acc: 0.0829\n",
      "Epoch 17/20\n",
      "13150/13150 [==============================] - 50s 4ms/step - loss: 14.6595 - acc: 0.0905 - val_loss: 14.7815 - val_acc: 0.0829\n",
      "Epoch 18/20\n",
      "13150/13150 [==============================] - 48s 4ms/step - loss: 14.6595 - acc: 0.0905 - val_loss: 14.7815 - val_acc: 0.0829\n",
      "Epoch 19/20\n",
      "13150/13150 [==============================] - 49s 4ms/step - loss: 14.6595 - acc: 0.0905 - val_loss: 14.7815 - val_acc: 0.0829\n",
      "Epoch 20/20\n",
      "13150/13150 [==============================] - 48s 4ms/step - loss: 14.6595 - acc: 0.0905 - val_loss: 14.7815 - val_acc: 0.0829\n"
     ]
    },
    {
     "data": {
      "text/plain": [
       "<keras.callbacks.History at 0x7fe74c0b2828>"
      ]
     },
     "execution_count": 16,
     "metadata": {},
     "output_type": "execute_result"
    }
   ],
   "source": [
    "model.fit(x_train,y_train, validation_data=(x_test,y_test),epochs=20,batch_size = 128,shuffle = True )"
   ]
  },
  {
   "cell_type": "code",
   "execution_count": null,
   "metadata": {},
   "outputs": [],
   "source": []
  }
 ],
 "metadata": {
  "kernelspec": {
   "display_name": "Python 3",
   "language": "python",
   "name": "python3"
  },
  "language_info": {
   "codemirror_mode": {
    "name": "ipython",
    "version": 3
   },
   "file_extension": ".py",
   "mimetype": "text/x-python",
   "name": "python",
   "nbconvert_exporter": "python",
   "pygments_lexer": "ipython3",
   "version": "3.6.5"
  }
 },
 "nbformat": 4,
 "nbformat_minor": 2
}
